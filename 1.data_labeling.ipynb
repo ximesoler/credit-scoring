{
 "cells": [
  {
   "cell_type": "code",
   "execution_count": null,
   "id": "0",
   "metadata": {},
   "outputs": [],
   "source": [
    "import kagglehub\n",
    "import pandas as pd\n",
    "import matplotlib.pyplot as plt\n",
    "\n",
    "# Download latest version\n",
    "path = kagglehub.dataset_download(\"ethon0426/lending-club-20072020q1\")\n",
    "\n",
    "print(\"Path to dataset files:\", path)\n",
    "\n",
    "p = f\"{path}/Loan_status_2007-2020Q3.gzip\"\n",
    "\n",
    "\n",
    "pd.set_option('display.max_columns', None)\n",
    "\n",
    "df_borrowers = pd.read_csv(p)\n",
    "print(len(df_borrowers))\n",
    "df_borrowers.head()"
   ]
  },
  {
   "cell_type": "code",
   "execution_count": null,
   "id": "1",
   "metadata": {},
   "outputs": [],
   "source": [
    "pd.set_option('display.max_colwidth', None)\n",
    "pd.set_option('display.max_rows', None)\n",
    "p = f\"{path}/LCDataDictionary.xlsx\"\n",
    "\n",
    "df_descriptions = pd.read_excel(p)\n",
    "df_descriptions"
   ]
  },
  {
   "cell_type": "markdown",
   "id": "2",
   "metadata": {},
   "source": [
    "As we don't have the roll rates for loans to see the best past due to determine if a loan is good or bad, from description ´loan_status´ could be a good variable to use as targe. Let's see it's values."
   ]
  },
  {
   "cell_type": "code",
   "execution_count": null,
   "id": "3",
   "metadata": {},
   "outputs": [],
   "source": [
    "import pandas as pd\n",
    "import matplotlib.pyplot as plt\n",
    "# Count values and plot as barplot\n",
    "df_borrowers['loan_status'].value_counts().plot(kind='bar', color='skyblue')\n",
    "\n",
    "plt.xlabel('Loan Status')\n",
    "plt.ylabel('Count')\n",
    "plt.title('Distribution of Loan Status in 12-Month Dataset')\n",
    "plt.xticks(rotation=45)\n",
    "plt.tight_layout()\n",
    "plt.show()"
   ]
  },
  {
   "cell_type": "markdown",
   "id": "4",
   "metadata": {},
   "source": [
    "This variable can be taken as the target, using the labels related to \"charged off\" to flag a loan as bad and the \"fully paid\" and \"current\" labels to mark a loan a not defaulter. To avoid noise, some labels  like \"In Grace Period\", \"Late (16-30 days)\" and \"Late (31-120 days)\" can be used to flag the loan as indetermined.\n",
    "\n",
    "Also we are going to take the loan with at least 12 months of lifetime (the common sandard on personal loans) to select the first group of loans to be modeled. As the databse doesn't have 'cuttof date' we are going to use as proxy of life of a credit ´issue_d´ and ´last_pymnt_d´ or ´last_credit_pull_d'\n",
    "\n",
    "Next, loans are going to be selected and labeled as defaulted or not based on previous criteria."
   ]
  },
  {
   "cell_type": "code",
   "execution_count": null,
   "id": "5",
   "metadata": {},
   "outputs": [],
   "source": [
    "import pandas as pd\n",
    "\n",
    "df = df_borrowers.copy()\n",
    "for c in ['issue_d','last_pymnt_d','last_credit_pull_d']:\n",
    "    df[c] = pd.to_datetime(df[c], errors='coerce')\n",
    "\n",
    "# as-of for loan\n",
    "as_of_row = df[['last_pymnt_d', 'last_credit_pull_d']].max(axis=1)\n",
    "has_12m = (df['issue_d'] + pd.DateOffset(months=12)) <= as_of_row\n",
    "\n",
    "default = {\n",
    "    'Charged Off', 'Default',\n",
    "    'Does not meet the credit policy: Status:Charged Off',  # <- opcional\n",
    "}\n",
    "non_default = {\n",
    "    'Fully Paid', 'Current',\n",
    "    'Does not meet the credit policy: Status:Fully Paid',   # <- opcional\n",
    "}\n",
    "indetermined = {'In Grace Period', 'Late (16-30 days)', 'Late (31-120 days)'}\n",
    "policy_prefix = 'Does not meet the credit policy'\n",
    "\n",
    "def label_row(s, has12):\n",
    "    if pd.isna(s):\n",
    "        return 'undetermined'\n",
    "    if s in default:\n",
    "        return 'default'\n",
    "    if s in non_default and has12:\n",
    "        return 'non_default'\n",
    "    if (s in indetermined) or (s.startswith(policy_prefix) and s not in default and s not in non_default):\n",
    "        return 'undetermined'\n",
    "\n",
    "    return 'undetermined'\n",
    "\n",
    "df['target'] = [label_row(s, h) for s, h in zip(df['loan_status'].fillna(''), has_12m)]\n",
    "\n",
    "selected_loans_df = df[df['target'].isin(['default','non_default'])].copy()"
   ]
  },
  {
   "cell_type": "code",
   "execution_count": null,
   "id": "6",
   "metadata": {},
   "outputs": [],
   "source": [
    "len(selected_loans_df)"
   ]
  },
  {
   "cell_type": "code",
   "execution_count": null,
   "id": "7",
   "metadata": {},
   "outputs": [],
   "source": [
    "selected_loans_df['target'].value_counts().plot(kind='bar', color='skyblue')\n",
    "\n",
    "plt.xlabel('Loan Status')\n",
    "plt.ylabel('Count')\n",
    "plt.title('Distribution of Loan Status in 12-Month Dataset')\n",
    "plt.xticks(rotation=45)\n",
    "plt.tight_layout()\n",
    "plt.show()"
   ]
  },
  {
   "cell_type": "code",
   "execution_count": null,
   "id": "8",
   "metadata": {},
   "outputs": [],
   "source": [
    "max(selected_loans_df.issue_d.unique())\n",
    "min(selected_loans_df.issue_d.unique())"
   ]
  },
  {
   "cell_type": "code",
   "execution_count": null,
   "id": "9",
   "metadata": {},
   "outputs": [],
   "source": [
    "import pandas as pd\n",
    "\n",
    "df = selected_loans_df.copy()\n",
    "\n",
    "# 1) Parsear fechas: 'Dec-2011' -> 2011-12-01\n",
    "def parse_month(s):\n",
    "    # intenta %b-%Y (Dec-2011); si no, deja que pandas infiera\n",
    "    out = pd.to_datetime(s, format='%b-%Y', errors='coerce')\n",
    "    if pd.isna(out):\n",
    "        out = pd.to_datetime(s, errors='coerce')\n",
    "    return out\n",
    "\n",
    "df['issue_d'] = df['issue_d'].astype(str).map(parse_month)"
   ]
  },
  {
   "cell_type": "code",
   "execution_count": null,
   "id": "10",
   "metadata": {},
   "outputs": [],
   "source": [
    "import matplotlib.pyplot as plt\n",
    "import pandas as pd\n",
    "# Extract year\n",
    "df['year'] = df['issue_d'].dt.year\n",
    "\n",
    "# Count loans per year and target\n",
    "loans_by_year_target = (\n",
    "    df.groupby(['year', 'target'])\n",
    "      .size()\n",
    "      .unstack(fill_value=0)\n",
    "      .sort_index()\n",
    ")\n",
    "\n",
    "# Normalize to percentage (100%)\n",
    "loans_by_year_target_pct = loans_by_year_target.div(loans_by_year_target.sum(axis=1), axis=0) * 100\n",
    "\n",
    "# Plot stacked bar (100%)\n",
    "loans_by_year_target_pct.plot(kind='bar', stacked=True, figsize=(8, 5), colormap='tab20c')\n",
    "\n",
    "# Labels and title\n",
    "plt.xlabel('Year')\n",
    "plt.ylabel('Percentage of Loans (%)')\n",
    "plt.title('Loan Composition by Year and Target (100% Stacked)')\n",
    "plt.xticks(rotation=45)\n",
    "plt.legend(title='Target', bbox_to_anchor=(1.05, 1), loc='upper left')\n",
    "plt.tight_layout()\n",
    "plt.show()\n"
   ]
  },
  {
   "cell_type": "markdown",
   "id": "11",
   "metadata": {},
   "source": [
    "For train-test-oot spliting lets use the info of issued loans from 2015 and 2019."
   ]
  },
  {
   "cell_type": "code",
   "execution_count": null,
   "id": "12",
   "metadata": {},
   "outputs": [],
   "source": [
    "from pathlib import Path\n",
    "# Create output folders\n",
    "out = Path(\"data/processed\"); out.mkdir(parents=True, exist_ok=True)\n",
    "\n",
    "# Save as Parquet with fastparquet (preserves dtypes nicely)\n",
    "train.to_parquet(out / \"train.parquet\", engine=\"fastparquet\", index=False)\n",
    "valid.to_parquet(out / \"valid.parquet\", engine=\"fastparquet\", index=False)\n",
    "test.to_parquet( out / \"test.parquet\",  engine=\"fastparquet\", index=False)\n",
    "\n",
    "print(\"Saved to:\", list(out.glob(\"*.parquet\")))"
   ]
  }
 ],
 "metadata": {
  "kernelspec": {
   "display_name": "scoring-py3.11",
   "language": "python",
   "name": "python3"
  },
  "language_info": {
   "codemirror_mode": {
    "name": "ipython",
    "version": 3
   },
   "file_extension": ".py",
   "mimetype": "text/x-python",
   "name": "python",
   "nbconvert_exporter": "python",
   "pygments_lexer": "ipython3",
   "version": "3.11.13"
  }
 },
 "nbformat": 4,
 "nbformat_minor": 5
}
