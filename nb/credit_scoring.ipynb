{
 "cells": [
  {
   "cell_type": "code",
   "execution_count": null,
   "id": "3479dfbd",
   "metadata": {},
   "outputs": [],
   "source": [
    "len(df_borrowers.id.unique())"
   ]
  },
  {
   "cell_type": "code",
   "execution_count": null,
   "id": "2f11b89c",
   "metadata": {},
   "outputs": [],
   "source": [
    "df_borrowers.describe()"
   ]
  },
  {
   "cell_type": "code",
   "execution_count": null,
   "id": "5c7e6050",
   "metadata": {},
   "outputs": [],
   "source": []
  },
  {
   "cell_type": "code",
   "execution_count": null,
   "id": "8751d0c9",
   "metadata": {},
   "outputs": [],
   "source": []
  }
 ],
 "metadata": {
  "kernelspec": {
   "display_name": "scoring-py3.11",
   "language": "python",
   "name": "python3"
  },
  "language_info": {
   "codemirror_mode": {
    "name": "ipython",
    "version": 3
   },
   "file_extension": ".py",
   "mimetype": "text/x-python",
   "name": "python",
   "nbconvert_exporter": "python",
   "pygments_lexer": "ipython3",
   "version": "3.11.13"
  }
 },
 "nbformat": 4,
 "nbformat_minor": 5
}
